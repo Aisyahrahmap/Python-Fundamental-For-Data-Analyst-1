{
 "cells": [
  {
   "cell_type": "markdown",
   "id": "3c8916ee-4d87-4978-a6e7-73d53da0331d",
   "metadata": {},
   "source": [
    "# While  \n",
    "The while loop in Python is used to execute a block of statements repeatedly until a given condition is satisfied. The while loop falls under the category of indefinite iteration, which means that the number of times the loop is executed is not specified explicitly in advance\n"
   ]
  },
  {
   "cell_type": "code",
   "execution_count": 2,
   "id": "32d8ce38-c1a7-4c41-8959-05859947dfdc",
   "metadata": {},
   "outputs": [
    {
     "name": "stdout",
     "output_type": "stream",
     "text": [
      "2\n",
      "angka 2\n",
      "angka 3\n",
      "angka 4\n"
     ]
    }
   ],
   "source": [
    "angka = int(input())\n",
    "\n",
    "while (angka < 5):\n",
    "    print (\"angka {}\". format (angka))\n",
    "    angka = angka+1"
   ]
  },
  {
   "cell_type": "code",
   "execution_count": 3,
   "id": "bf0cca64-7f83-4b4b-9b8b-8ca51fda1693",
   "metadata": {},
   "outputs": [
    {
     "name": "stdout",
     "output_type": "stream",
     "text": [
      "0\n",
      "bilangan 0\n",
      "bilangan 5\n",
      "bilangan 10\n"
     ]
    }
   ],
   "source": [
    "angka = int(input())\n",
    "\n",
    "while (angka <= 10):\n",
    "    print (\"bilangan {}\". format (angka))\n",
    "    angka = angka + 5"
   ]
  },
  {
   "cell_type": "markdown",
   "id": "44116b6f-b52f-4aef-86d0-70f7fa449d4e",
   "metadata": {},
   "source": [
    "# While with Else\n",
    "The else clause can be used to run a block of code once when the condition becomes false"
   ]
  },
  {
   "cell_type": "code",
   "execution_count": 4,
   "id": "0595da90-4859-49a1-ab2d-25a47bc40adf",
   "metadata": {},
   "outputs": [
    {
     "name": "stdout",
     "output_type": "stream",
     "text": [
      "1\n",
      "4\n",
      "7\n",
      "10\n",
      "13\n",
      "16\n",
      "loop Selesai, Yeeey!\n"
     ]
    }
   ],
   "source": [
    "angka = int(input())\n",
    "\n",
    "while (angka < 15):\n",
    "    angka = angka + 3\n",
    "    if angka == 6:\n",
    "        break\n",
    "    print (angka)\n",
    "else:\n",
    "    print (\"loop Selesai, Yeeey!\")"
   ]
  }
 ],
 "metadata": {
  "kernelspec": {
   "display_name": "Python 3 (ipykernel)",
   "language": "python",
   "name": "python3"
  },
  "language_info": {
   "codemirror_mode": {
    "name": "ipython",
    "version": 3
   },
   "file_extension": ".py",
   "mimetype": "text/x-python",
   "name": "python",
   "nbconvert_exporter": "python",
   "pygments_lexer": "ipython3",
   "version": "3.11.5"
  },
  "widgets": {
   "application/vnd.jupyter.widget-state+json": {
    "state": {},
    "version_major": 2,
    "version_minor": 0
   }
  }
 },
 "nbformat": 4,
 "nbformat_minor": 5
}
